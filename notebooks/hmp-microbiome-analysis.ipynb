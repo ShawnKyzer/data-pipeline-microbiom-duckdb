{
 "cells": [
  {
   "cell_type": "markdown",
   "metadata": {},
   "source": [
    "# Human Microbiome Project Data Analysis\n",
    "\n",
    "This notebook performs various analyses on the Human Microbiome Project database, including genome size distribution, gene analysis, and taxonomic distribution."
   ]
  },
  {
   "cell_type": "code",
   "execution_count": null,
   "metadata": {},
   "outputs": [],
   "source": [
    "!pip install duckdb pandas plotly seaborn matplotlib numpy"
   ]
  },
  {
   "cell_type": "code",
   "execution_count": null,
   "metadata": {},
   "outputs": [],
   "source": [
    "# Importing required libraries\n",
    "import duckdb\n",
    "import pandas as pd\n",
    "import plotly.express as px\n",
    "import plotly.graph_objects as go\n",
    "from plotly.subplots import make_subplots\n",
    "import seaborn as sns\n",
    "import matplotlib.pyplot as plt\n",
    "import numpy as np\n",
    "import os \n",
    "\n",
    "# Connect to the database in parent directory\\n\",\n",
    "db_path = os.path.join('..', 'hmp_microbiome.duckdb')\n",
    "conn = duckdb.connect(db_path, read_only=True)\n"
   ]
  },
  {
   "cell_type": "markdown",
   "metadata": {},
   "source": [
    "## 1. Genome Size Distribution Analysis"
   ]
  },
  {
   "cell_type": "code",
   "execution_count": null,
   "metadata": {},
   "outputs": [],
   "source": [
    "def plot_genome_size_distribution():\n",
    "    query = \"\"\"\n",
    "    SELECT organism_name, genome_size, \n",
    "           COUNT(g.gene_id) as gene_count\n",
    "    FROM organisms o\n",
    "    LEFT JOIN genes g ON o.organism_id = g.organism_id\n",
    "    GROUP BY organism_name, genome_size\n",
    "    ORDER BY genome_size DESC\n",
    "    LIMIT 20\n",
    "    \"\"\"\n",
    "    df = conn.execute(query).df()\n",
    "    \n",
    "    fig = make_subplots(rows=1, cols=2, subplot_titles=('Genome Size vs Gene Count', 'Top 20 Organisms by Genome Size'))\n",
    "    \n",
    "    # Scatter plot\n",
    "    fig.add_trace(\n",
    "        go.Scatter(x=df['genome_size'], y=df['gene_count'], \n",
    "                  mode='markers', text=df['organism_name'],\n",
    "                  name='Organisms'),\n",
    "        row=1, col=1\n",
    "    )\n",
    "    \n",
    "    # Bar plot\n",
    "    fig.add_trace(\n",
    "        go.Bar(x=df['organism_name'], y=df['genome_size'],\n",
    "               name='Genome Size'),\n",
    "        row=1, col=2\n",
    "    )\n",
    "    \n",
    "    fig.update_layout(height=500, width=1200, showlegend=False)\n",
    "    fig.update_xaxes(tickangle=45, row=1, col=2)\n",
    "    return fig\n",
    "\n",
    "# Generate and display the plot\n",
    "fig1 = plot_genome_size_distribution()\n",
    "fig1.show()"
   ]
  },
  {
   "cell_type": "markdown",
   "metadata": {},
   "source": [
    "## 2. Gene Distribution Analysis"
   ]
  },
  {
   "cell_type": "code",
   "execution_count": null,
   "metadata": {},
   "outputs": [],
   "source": [
    "def plot_gene_distributions():\n",
    "    query = \"\"\"\n",
    "    SELECT o.organism_name,\n",
    "           COUNT(CASE WHEN g.product LIKE '%hypothetical%' THEN 1 END) as hypothetical_genes,\n",
    "           COUNT(CASE WHEN g.product NOT LIKE '%hypothetical%' THEN 1 END) as known_genes\n",
    "    FROM organisms o\n",
    "    LEFT JOIN genes g ON o.organism_id = g.organism_id\n",
    "    GROUP BY o.organism_name\n",
    "    ORDER BY (hypothetical_genes + known_genes) DESC\n",
    "    LIMIT 15\n",
    "    \"\"\"\n",
    "    df = conn.execute(query).df()\n",
    "    \n",
    "    fig = go.Figure()\n",
    "    fig.add_trace(go.Bar(\n",
    "        name='Known Genes',\n",
    "        x=df['organism_name'],\n",
    "        y=df['known_genes'],\n",
    "        marker_color='rgb(55, 83, 109)'\n",
    "    ))\n",
    "    fig.add_trace(go.Bar(\n",
    "        name='Hypothetical Genes',\n",
    "        x=df['organism_name'],\n",
    "        y=df['hypothetical_genes'],\n",
    "        marker_color='rgb(26, 118, 255)'\n",
    "    ))\n",
    "    \n",
    "    fig.update_layout(\n",
    "        barmode='stack',\n",
    "        title='Distribution of Known vs Hypothetical Genes Among Top 15 Organisms',\n",
    "        xaxis_tickangle=45,\n",
    "        height=500,\n",
    "        width=1000\n",
    "    )\n",
    "    return fig\n",
    "\n",
    "# Generate and display the plot\n",
    "fig2 = plot_gene_distributions()\n",
    "fig2.show()"
   ]
  },
  {
   "cell_type": "markdown",
   "metadata": {},
   "source": [
    "## 3. Gene Product Analysis"
   ]
  },
  {
   "cell_type": "code",
   "execution_count": null,
   "metadata": {},
   "outputs": [],
   "source": [
    "def plot_top_gene_products():\n",
    "    query = \"\"\"\n",
    "    SELECT product, COUNT(*) as count\n",
    "    FROM genes\n",
    "    WHERE product NOT LIKE '%hypothetical%'\n",
    "    GROUP BY product\n",
    "    ORDER BY count DESC\n",
    "    LIMIT 20\n",
    "    \"\"\"\n",
    "    df = conn.execute(query).df()\n",
    "    \n",
    "    fig = px.treemap(df, \n",
    "                    path=[px.Constant(\"Gene Products\"), 'product'],\n",
    "                    values='count',\n",
    "                    title='Top 20 Gene Products Distribution')\n",
    "    fig.update_layout(height=600, width=1000)\n",
    "    return fig\n",
    "\n",
    "# Generate and display the plot\n",
    "fig3 = plot_top_gene_products()\n",
    "fig3.show()"
   ]
  },
  {
   "cell_type": "markdown",
   "metadata": {},
   "source": [
    "## 4. Taxonomy Analysis"
   ]
  },
  {
   "cell_type": "code",
   "execution_count": null,
   "metadata": {},
   "outputs": [],
   "source": [
    "def plot_taxonomy_distribution():\n",
    "    query = \"\"\"\n",
    "    SELECT \n",
    "        SPLIT_PART(taxonomy, ';', 2) as phylum,\n",
    "        COUNT(*) as organism_count,\n",
    "        AVG(genome_size) as avg_genome_size\n",
    "    FROM organisms\n",
    "    GROUP BY phylum\n",
    "    HAVING phylum != ''\n",
    "    ORDER BY organism_count DESC\n",
    "    \"\"\"\n",
    "    df = conn.execute(query).df()\n",
    "    \n",
    "    # Specify that the first subplot should be 'domain' type for pie chart\n",
    "    fig = make_subplots(\n",
    "        rows=1, cols=2,\n",
    "        specs=[[{'type': 'domain'}, {'type': 'xy'}]],\n",
    "        subplot_titles=('Organism Count by Phylum', 'Average Genome Size by Phylum')\n",
    "    )\n",
    "    \n",
    "    fig.add_trace(\n",
    "        go.Pie(labels=df['phylum'],\n",
    "               values=df['organism_count'],\n",
    "               hole=0.3),\n",
    "        row=1, col=1\n",
    "    )\n",
    "    \n",
    "    fig.add_trace(\n",
    "        go.Bar(x=df['phylum'],\n",
    "               y=df['avg_genome_size'],\n",
    "               marker_color='rgb(158,202,225)'),\n",
    "        row=1, col=2\n",
    "    )\n",
    "    \n",
    "    fig.update_layout(height=500, width=1200)\n",
    "    fig.update_xaxes(tickangle=45, row=1, col=2)\n",
    "    return fig\n",
    "\n",
    "# Generate and display the plot\n",
    "fig4 = plot_taxonomy_distribution()\n",
    "fig4.show()"
   ]
  },
  {
   "cell_type": "markdown",
   "metadata": {},
   "source": [
    "## 5. Gene Strand Distribution"
   ]
  },
  {
   "cell_type": "code",
   "execution_count": null,
   "metadata": {},
   "outputs": [],
   "source": [
    "def plot_strand_distribution():\n",
    "    query = \"\"\"\n",
    "    SELECT o.organism_name,\n",
    "           COUNT(CASE WHEN g.strand = '+' THEN 1 END) as positive_strand,\n",
    "           COUNT(CASE WHEN g.strand = '-' THEN 1 END) as negative_strand\n",
    "    FROM organisms o\n",
    "    JOIN genes g ON o.organism_id = g.organism_id\n",
    "    GROUP BY o.organism_name\n",
    "    ORDER BY (positive_strand + negative_strand) DESC\n",
    "    LIMIT 10\n",
    "    \"\"\"\n",
    "    df = conn.execute(query).df()\n",
    "    \n",
    "    fig = go.Figure()\n",
    "    fig.add_trace(go.Bar(\n",
    "        name='Positive Strand',\n",
    "        x=df['organism_name'],\n",
    "        y=df['positive_strand'],\n",
    "        marker_color='rgb(55, 83, 109)'\n",
    "    ))\n",
    "    fig.add_trace(go.Bar(\n",
    "        name='Negative Strand',\n",
    "        x=df['organism_name'],\n",
    "        y=df['negative_strand'],\n",
    "        marker_color='rgb(26, 118, 255)'\n",
    "    ))\n",
    "    \n",
    "    fig.update_layout(\n",
    "        barmode='group',\n",
    "        title='Gene Strand Distribution in Top 10 Organisms',\n",
    "        xaxis_tickangle=45,\n",
    "        height=500,\n",
    "        width=1000\n",
    "    )\n",
    "    return fig\n",
    "\n",
    "# Generate and display the plot\n",
    "fig5 = plot_strand_distribution()\n",
    "fig5.show()"
   ]
  },
  {
   "cell_type": "markdown",
   "metadata": {},
   "source": [
    "## 6. Gene Density Analysis"
   ]
  },
  {
   "cell_type": "code",
   "execution_count": null,
   "metadata": {},
   "outputs": [],
   "source": [
    "def plot_gene_density():\n",
    "    query = \"\"\"\n",
    "    SELECT o.organism_name,\n",
    "           o.genome_size,\n",
    "           COUNT(*) as gene_count,\n",
    "           CAST(COUNT(*) AS FLOAT) / (o.genome_size / 1000000.0) as genes_per_mb\n",
    "    FROM organisms o\n",
    "    JOIN genes g ON o.organism_id = g.organism_id\n",
    "    GROUP BY o.organism_name, o.genome_size\n",
    "    ORDER BY genes_per_mb DESC\n",
    "    LIMIT 15\n",
    "    \"\"\"\n",
    "    df = conn.execute(query).df()\n",
    "    \n",
    "    fig = px.scatter(df,\n",
    "                    x='genome_size',\n",
    "                    y='genes_per_mb',\n",
    "                    size='gene_count',\n",
    "                    text='organism_name',\n",
    "                    title='Gene Density Analysis')\n",
    "    \n",
    "    fig.update_traces(textposition='top center')\n",
    "    fig.update_layout(height=600, width=1000)\n",
    "    return fig\n",
    "\n",
    "# Generate and display the plot\n",
    "fig6 = plot_gene_density()\n",
    "fig6.show()"
   ]
  },
  {
   "cell_type": "code",
   "execution_count": null,
   "metadata": {},
   "outputs": [],
   "source": [
    "# Close the database connection\n",
    "conn.close()"
   ]
  }
 ],
 "metadata": {
  "kernelspec": {
   "display_name": "Python 3 (ipykernel)",
   "language": "python",
   "name": "python3"
  },
  "language_info": {
   "codemirror_mode": {
    "name": "ipython",
    "version": 3
   },
   "file_extension": ".py",
   "mimetype": "text/x-python",
   "name": "python",
   "nbconvert_exporter": "python",
   "pygments_lexer": "ipython3",
   "version": "3.11.7"
  }
 },
 "nbformat": 4,
 "nbformat_minor": 4
}
