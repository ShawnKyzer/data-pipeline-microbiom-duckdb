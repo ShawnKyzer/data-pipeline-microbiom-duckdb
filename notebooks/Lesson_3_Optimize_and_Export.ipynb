{
 "cells": [
  {
   "cell_type": "code",
   "execution_count": null,
   "id": "3edecb68-9229-46f5-abeb-801a247c196e",
   "metadata": {},
   "outputs": [],
   "source": [
    "!pip install duckdb ipython-sql pandas"
   ]
  },
  {
   "cell_type": "code",
   "execution_count": null,
   "id": "f1dd2fbd-afe3-462c-8af2-c4306fb4c1fb",
   "metadata": {},
   "outputs": [],
   "source": [
    "import duckdb\n",
    "\n",
    "# Connect to the DuckDB database\n",
    "conn = duckdb.connect('../data_ingestion_pipeline/hmp_microbiome.duckdb', read_only=True)\n"
   ]
  },
  {
   "cell_type": "code",
   "execution_count": null,
   "id": "66fd45bb-a8d4-4d48-9257-c1fc96dc14b2",
   "metadata": {},
   "outputs": [],
   "source": [
    "# Execute a query and fetch results as a Pandas DataFrame\n",
    "df = conn.execute(\"SELECT * FROM organisms LIMIT 5\").fetchdf()\n",
    "print(df)"
   ]
  },
  {
   "cell_type": "code",
   "execution_count": null,
   "id": "c88c0e2d-6fb4-4d11-856d-87b88a9bc435",
   "metadata": {},
   "outputs": [],
   "source": [
    "# Set the number of threads for parallel processing\n",
    "conn.execute(\"PRAGMA threads=5;\")\n",
    "\n",
    "# Query to count genes per organism using parallel execution\n",
    "query = \"\"\"\n",
    "SELECT organism_name, COUNT(gene_id) AS gene_count \n",
    "FROM organisms o \n",
    "JOIN genes g ON o.organism_id = g.organism_id \n",
    "GROUP BY organism_name;\n",
    "\"\"\"\n",
    "result = conn.execute(query).fetchdf()\n",
    "print(result)"
   ]
  },
  {
   "cell_type": "code",
   "execution_count": null,
   "id": "b8b4250f-1c39-488f-834d-563411a1aff2",
   "metadata": {},
   "outputs": [],
   "source": [
    "# Export query results to a CSV file\n",
    "query = \"\"\"\n",
    "COPY (SELECT * FROM organisms LIMIT 10) TO 'output.json' WITH (FORMAT JSON);\n",
    "\"\"\"\n",
    "conn.execute(query)\n",
    "print(\"Query results exported to 'output.json'\")"
   ]
  },
  {
   "cell_type": "code",
   "execution_count": null,
   "id": "ec089089-6159-4ec6-82ec-171c4f80b809",
   "metadata": {},
   "outputs": [],
   "source": [
    "conn.close()"
   ]
  }
 ],
 "metadata": {
  "kernelspec": {
   "display_name": "Python 3 (ipykernel)",
   "language": "python",
   "name": "python3"
  },
  "language_info": {
   "codemirror_mode": {
    "name": "ipython",
    "version": 3
   },
   "file_extension": ".py",
   "mimetype": "text/x-python",
   "name": "python",
   "nbconvert_exporter": "python",
   "pygments_lexer": "ipython3",
   "version": "3.11.7"
  }
 },
 "nbformat": 4,
 "nbformat_minor": 5
}
